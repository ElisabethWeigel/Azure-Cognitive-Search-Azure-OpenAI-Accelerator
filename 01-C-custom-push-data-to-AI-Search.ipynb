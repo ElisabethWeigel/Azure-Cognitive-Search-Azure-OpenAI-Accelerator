{
  "cells": [
    {
      "attachments": {},
      "cell_type": "markdown",
      "source": [
        "# Azure AI Search Vector Search Code Sample with Azure OpenAI\n",
        "This code demonstrates how to use Azure AI Search by using the push API to insert vectors into your search index.\n",
        "## Prerequisites\n",
        "To run the code, install the following packages. Please use the latest pre-release version `pip install azure-search-documents --pre`. This sample currently uses version `11.4.0b11`."
      ],
      "metadata": {}
    },
    {
      "cell_type": "code",
      "source": [
        "! pip install azure-search-documents --pre --quiet\n",
        "! pip install openai --quiet\n",
        "! pip install python-dotenv --quiet"
      ],
      "outputs": [],
      "execution_count": null,
      "metadata": {}
    },
    {
      "attachments": {},
      "cell_type": "markdown",
      "source": [
        "## Import required libraries and environment variables"
      ],
      "metadata": {}
    },
    {
      "cell_type": "code",
      "source": [
        "# Import required libraries  \n",
        "import os  \n",
        "import json  \n",
        "import openai  \n",
        "from dotenv import load_dotenv  \n",
        "from tenacity import retry, wait_random_exponential, stop_after_attempt  \n",
        "from azure.core.credentials import AzureKeyCredential  \n",
        "from azure.search.documents import SearchClient, SearchIndexingBufferedSender  \n",
        "from azure.search.documents.indexes import SearchIndexClient  \n",
        "from azure.search.documents.models import (\n",
        "    QueryAnswerType,\n",
        "    QueryCaptionType,\n",
        "    QueryLanguage,\n",
        "    QueryType,\n",
        "    RawVectorQuery,\n",
        "    VectorizableTextQuery,\n",
        "    VectorFilterMode,    \n",
        ")\n",
        "from azure.search.documents.indexes.models import (  \n",
        "    ExhaustiveKnnVectorSearchAlgorithmConfiguration,\n",
        "    ExhaustiveKnnParameters,\n",
        "    SearchIndex,  \n",
        "    SearchField,  \n",
        "    SearchFieldDataType,  \n",
        "    SimpleField,  \n",
        "    SearchableField,  \n",
        "    SearchIndex,  \n",
        "    SemanticConfiguration,  \n",
        "    PrioritizedFields,  \n",
        "    SemanticField,  \n",
        "    SearchField,  \n",
        "    SemanticSettings,  \n",
        "    VectorSearch,  \n",
        "    HnswVectorSearchAlgorithmConfiguration,\n",
        "    HnswParameters,  \n",
        "    VectorSearch,\n",
        "    VectorSearchAlgorithmConfiguration,\n",
        "    VectorSearchAlgorithmKind,\n",
        "    VectorSearchProfile,\n",
        "    VectorSearchVectorizer,\n",
        "    VectorSearchVectorizerKind,\n",
        "    AzureOpenAIParameters,\n",
        "    AzureOpenAIVectorizer,\n",
        "    SearchIndex,\n",
        "    SearchField,\n",
        "    SearchFieldDataType,\n",
        "    SimpleField,\n",
        "    SearchableField,\n",
        "    VectorSearch,\n",
        "    HnswVectorSearchAlgorithmConfiguration,\n",
        "    ExhaustiveKnnVectorSearchAlgorithmConfiguration,\n",
        "    ExhaustiveKnnParameters,\n",
        "    SearchIndex,  \n",
        "    SearchField,  \n",
        "    SearchFieldDataType,  \n",
        "    SimpleField,  \n",
        "    SearchableField,  \n",
        "    SearchIndex,  \n",
        "    SemanticConfiguration,  \n",
        "    PrioritizedFields,  \n",
        "    SemanticField,  \n",
        "    SearchField,  \n",
        "    SemanticSettings, \n",
        "    VectorSearch,  \n",
        "    HnswVectorSearchAlgorithmConfiguration,\n",
        "    HnswParameters,  \n",
        "    VectorSearch,\n",
        "    VectorSearchAlgorithmKind,\n",
        "    VectorSearchAlgorithmMetric,\n",
        "    VectorSearchProfile,\n",
        "    AzureOpenAIParameters,\n",
        "    AzureOpenAIVectorizer,\n",
        ")  \n",
        "  \n",
        "# Configure environment variables  \n",
        "load_dotenv(\"credentials.env\")\n",
        "service_endpoint = os.getenv(\"AZURE_SEARCH_SERVICE_ENDPOINT\") \n",
        "index_name = os.getenv(\"AZURE_SEARCH_INDEX_NAME\") \n",
        "key = os.getenv(\"AZURE_SEARCH_ADMIN_KEY\") \n",
        "openai.api_type = \"azure\"  \n",
        "openai.api_key = os.getenv(\"AZURE_OPENAI_API_KEY\")  \n",
        "openai.api_base = os.getenv(\"AZURE_OPENAI_ENDPOINT\")  \n",
        "openai.api_version = os.getenv(\"AZURE_OPENAI_API_VERSION\") \n",
        "model: str = \"text-embedding-ada-002\" \n",
        "credential = AzureKeyCredential(key)"
      ],
      "outputs": [],
      "execution_count": 2,
      "metadata": {}
    },
    {
      "attachments": {},
      "cell_type": "markdown",
      "source": [
        "## Create embeddings\n",
        "Read your data, generate OpenAI embeddings and export to a format to insert your Azure AI Search index:"
      ],
      "metadata": {}
    },
    {
      "cell_type": "code",
      "source": [
        "# Generate Document Embeddings using OpenAI Ada 002\n",
        "# Read the text-sample.json\n",
        "with open('../data/text-sample.json', 'r', encoding='utf-8') as file:\n",
        "    input_data = json.load(file)\n",
        "\n",
        "@retry(wait=wait_random_exponential(min=1, max=20), stop=stop_after_attempt(6))\n",
        "# Function to generate embeddings for title and content fields, also used for query embeddings\n",
        "def generate_embeddings(text):\n",
        "    response = openai.Embedding.create(\n",
        "        input=text, engine=\"text-embedding-ada-002\")\n",
        "    embeddings = response['data'][0]['embedding']\n",
        "    return embeddings\n",
        "\n",
        "\n",
        "# Generate embeddings for title and content fields\n",
        "for item in input_data:\n",
        "    title = item['title']\n",
        "    content = item['content']\n",
        "    title_embeddings = generate_embeddings(title)\n",
        "    content_embeddings = generate_embeddings(content)\n",
        "    item['titleVector'] = title_embeddings\n",
        "    item['contentVector'] = content_embeddings\n",
        "\n",
        "# Output embeddings to docVectors.json file\n",
        "with open(\"../output/docVectors.json\", \"w\") as f:\n",
        "    json.dump(input_data, f)"
      ],
      "outputs": [],
      "execution_count": 9,
      "metadata": {}
    },
    {
      "attachments": {},
      "cell_type": "markdown",
      "source": [
        "## Create your search index\n",
        "Create your search index schema and vector search configuration:"
      ],
      "metadata": {}
    },
    {
      "cell_type": "code",
      "source": [
        "# Create a search index\n",
        "index_client = SearchIndexClient(\n",
        "    endpoint=service_endpoint, credential=credential)\n",
        "fields = [\n",
        "    SimpleField(name=\"id\", type=SearchFieldDataType.String, key=True, sortable=True, filterable=True, facetable=True),\n",
        "    SearchableField(name=\"title\", type=SearchFieldDataType.String),\n",
        "    SearchableField(name=\"content\", type=SearchFieldDataType.String),\n",
        "    SearchableField(name=\"category\", type=SearchFieldDataType.String,\n",
        "                    filterable=True),\n",
        "    SearchField(name=\"titleVector\", type=SearchFieldDataType.Collection(SearchFieldDataType.Single),\n",
        "                searchable=True, vector_search_dimensions=1536, vector_search_profile=\"myHnswProfile\"),\n",
        "    SearchField(name=\"contentVector\", type=SearchFieldDataType.Collection(SearchFieldDataType.Single),\n",
        "                searchable=True, vector_search_dimensions=1536, vector_search_profile=\"myHnswProfile\"),\n",
        "]\n",
        "\n",
        "# Configure the vector search configuration  \n",
        "vector_search = VectorSearch(\n",
        "    algorithms=[\n",
        "        HnswVectorSearchAlgorithmConfiguration(\n",
        "            name=\"myHnsw\",\n",
        "            kind=VectorSearchAlgorithmKind.HNSW,\n",
        "            parameters=HnswParameters(\n",
        "                m=4,\n",
        "                ef_construction=400,\n",
        "                ef_search=500,\n",
        "                metric=\"cosine\"\n",
        "            )\n",
        "        ),\n",
        "        ExhaustiveKnnVectorSearchAlgorithmConfiguration(\n",
        "            name=\"myExhaustiveKnn\",\n",
        "            kind=VectorSearchAlgorithmKind.EXHAUSTIVE_KNN,\n",
        "            parameters=ExhaustiveKnnParameters(\n",
        "                metric=\"cosine\"\n",
        "            )\n",
        "        )\n",
        "    ],\n",
        "    profiles=[\n",
        "        VectorSearchProfile(\n",
        "            name=\"myHnswProfile\",\n",
        "            algorithm=\"myHnsw\",\n",
        "            vectorizer=\"myOpenAI\"\n",
        "        ),\n",
        "        VectorSearchProfile(\n",
        "            name=\"myExhaustiveKnnProfile\",\n",
        "            algorithm=\"myExhaustiveKnn\",\n",
        "            vectorizer=\"myOpenAI\"\n",
        "        )\n",
        "    ],\n",
        "    vectorizers=[\n",
        "        AzureOpenAIVectorizer(\n",
        "            name=\"myOpenAI\",\n",
        "            kind=\"azureOpenAI\",\n",
        "            azure_open_ai_parameters=AzureOpenAIParameters(\n",
        "                resource_uri=os.getenv(\"AZURE_OPENAI_ENDPOINT\"),\n",
        "                deployment_id=model,\n",
        "                api_key=os.getenv(\"AZURE_OPENAI_API_KEY\")\n",
        "            )\n",
        "    )  \n",
        "]  \n",
        "\n",
        ")\n",
        "\n",
        "semantic_config = SemanticConfiguration(\n",
        "    name=\"my-semantic-config\",\n",
        "    prioritized_fields=PrioritizedFields(\n",
        "        title_field=SemanticField(field_name=\"title\"),\n",
        "        prioritized_keywords_fields=[SemanticField(field_name=\"category\")],\n",
        "        prioritized_content_fields=[SemanticField(field_name=\"content\")]\n",
        "    )\n",
        ")\n",
        "\n",
        "# Create the semantic settings with the configuration\n",
        "semantic_settings = SemanticSettings(configurations=[semantic_config])\n",
        "\n",
        "# Create the search index with the semantic settings\n",
        "index = SearchIndex(name=index_name, fields=fields,\n",
        "                    vector_search=vector_search, semantic_settings=semantic_settings)\n",
        "result = index_client.create_or_update_index(index)\n",
        "print(f' {result.name} created')\n"
      ],
      "outputs": [
        {
          "output_type": "stream",
          "name": "stdout",
          "text": " python-vector-demo created\n"
        }
      ],
      "execution_count": 3,
      "metadata": {}
    },
    {
      "attachments": {},
      "cell_type": "markdown",
      "source": [
        "## Insert text and embeddings into vector store\n",
        "Add texts and metadata from the JSON data to the vector store:"
      ],
      "metadata": {}
    },
    {
      "cell_type": "code",
      "source": [
        "# Upload some documents to the index\n",
        "with open('../output/docVectors.json', 'r') as file:  \n",
        "    documents = json.load(file)  \n",
        "search_client = SearchClient(endpoint=service_endpoint, index_name=index_name, credential=credential)\n",
        "result = search_client.upload_documents(documents)\n",
        "print(f\"Uploaded {len(documents)} documents\") "
      ],
      "outputs": [
        {
          "output_type": "stream",
          "name": "stdout",
          "text": "Uploaded 108 documents\n"
        }
      ],
      "execution_count": 4,
      "metadata": {}
    },
    {
      "cell_type": "markdown",
      "source": [
        "If you are indexing a very large number of documents, you can use the `SearchIndexingBufferedSender` which is an optimized way to automatically index the docs as it will handle the batching for you:"
      ],
      "metadata": {}
    },
    {
      "cell_type": "code",
      "source": [
        "# Upload some documents to the index  \n",
        "with open('../output/docVectors.json', 'r') as file:  \n",
        "    documents = json.load(file)  \n",
        "  \n",
        "# Use SearchIndexingBufferedSender to upload the documents in batches optimized for indexing  \n",
        "with SearchIndexingBufferedSender(  \n",
        "    endpoint=service_endpoint,  \n",
        "    index_name=index_name,  \n",
        "    credential=credential,  \n",
        ") as batch_client:  \n",
        "    # Add upload actions for all documents  \n",
        "    batch_client.upload_documents(documents=documents)  \n",
        "print(f\"Uploaded {len(documents)} documents in total\")  \n"
      ],
      "outputs": [
        {
          "output_type": "stream",
          "name": "stdout",
          "text": "Uploaded 108 documents in total\n"
        }
      ],
      "execution_count": 5,
      "metadata": {}
    },
    {
      "attachments": {},
      "cell_type": "markdown",
      "source": [
        "## Perform a vector similarity search"
      ],
      "metadata": {}
    },
    {
      "cell_type": "markdown",
      "source": [
        "This example shows a pure vector search using the vectorizable text query, all you need to do is pass in text and your vectorizer will handle the query vectorization."
      ],
      "metadata": {}
    },
    {
      "cell_type": "code",
      "source": [
        "# Pure Vector Search\n",
        "query = \"tools for software development\"  \n",
        "  \n",
        "search_client = SearchClient(service_endpoint, index_name, credential=credential)\n",
        "vector_query = VectorizableTextQuery(text=query, k=3, fields=\"contentVector\")\n",
        "# Use the below query to pass in the raw vector query instead of the query vectorization\n",
        "# vector_query = RawVectorQuery(vector=generate_embeddings(query), k=3, fields=\"contentVector\")\n",
        "  \n",
        "results = search_client.search(  \n",
        "    search_text=None,  \n",
        "    vector_queries= [vector_query],\n",
        "    select=[\"title\", \"content\", \"category\"],\n",
        ")  \n",
        "  \n",
        "for result in results:  \n",
        "    print(f\"Title: {result['title']}\")  \n",
        "    print(f\"Score: {result['@search.score']}\")  \n",
        "    print(f\"Content: {result['content']}\")  \n",
        "    print(f\"Category: {result['category']}\\n\")  \n"
      ],
      "outputs": [
        {
          "output_type": "stream",
          "name": "stdout",
          "text": "Title: Azure DevOps\nScore: 0.82971567\nContent: Azure DevOps is a suite of services that help you plan, build, and deploy applications. It includes Azure Boards for work item tracking, Azure Repos for source code management, Azure Pipelines for continuous integration and continuous deployment, Azure Test Plans for manual and automated testing, and Azure Artifacts for package management. DevOps supports a wide range of programming languages, frameworks, and platforms, making it easy to integrate with your existing development tools and processes. It also integrates with other Azure services, such as Azure App Service and Azure Functions.\nCategory: Developer Tools\n\nTitle: Azure DevTest Labs\nScore: 0.81866795\nContent: Azure DevTest Labs is a fully managed service that enables you to create, manage, and share development and test environments in Azure. It provides features like custom templates, cost management, and integration with Azure DevOps. DevTest Labs supports various platforms, such as Windows, Linux, and Kubernetes. You can use Azure DevTest Labs to improve your application development lifecycle, reduce your costs, and ensure the consistency of your environments. It also integrates with other Azure services, such as Azure Virtual Machines and Azure App Service.\nCategory: Developer Tools\n\nTitle: Azure Application Insights\nScore: 0.8022945\nContent: Azure Application Insights is an application performance management service that enables you to monitor, diagnose, and troubleshoot your applications and infrastructure. It provides features like real-time telemetry, dependency mapping, and live metrics. Application Insights supports various platforms, such as .NET, Java, Node.js, and Python. You can use Azure Application Insights to detect and diagnose issues, optimize your performance, and ensure the availability of your applications. It also integrates with other Azure services, such as Azure Monitor and Azure Log Analytics.\nCategory: Management + Governance\n\n"
        }
      ],
      "execution_count": 6,
      "metadata": {}
    },
    {
      "cell_type": "markdown",
      "source": [
        "This example shows a pure vector search using a raw vector query, in this example, you are responsible for generating the query vector."
      ],
      "metadata": {}
    },
    {
      "cell_type": "code",
      "source": [
        "# Pure Vector Search\n",
        "query = \"tools for software development\"  \n",
        "  \n",
        "search_client = SearchClient(service_endpoint, index_name, credential=credential)\n",
        "# Use the below query to pass in the raw vector query instead of the query vectorization\n",
        "vector_query = RawVectorQuery(vector=generate_embeddings(query), k=3, fields=\"contentVector\")\n",
        "  \n",
        "results = search_client.search(  \n",
        "    search_text=None,  \n",
        "    vector_queries= [vector_query],\n",
        "    select=[\"title\", \"content\", \"category\"],\n",
        ")  \n",
        "  \n",
        "for result in results:  \n",
        "    print(f\"Title: {result['title']}\")  \n",
        "    print(f\"Score: {result['@search.score']}\")  \n",
        "    print(f\"Content: {result['content']}\")  \n",
        "    print(f\"Category: {result['category']}\\n\")  \n"
      ],
      "outputs": [
        {
          "output_type": "stream",
          "name": "stdout",
          "text": "Title: Azure DevOps\nScore: 0.82971567\nContent: Azure DevOps is a suite of services that help you plan, build, and deploy applications. It includes Azure Boards for work item tracking, Azure Repos for source code management, Azure Pipelines for continuous integration and continuous deployment, Azure Test Plans for manual and automated testing, and Azure Artifacts for package management. DevOps supports a wide range of programming languages, frameworks, and platforms, making it easy to integrate with your existing development tools and processes. It also integrates with other Azure services, such as Azure App Service and Azure Functions.\nCategory: Developer Tools\n\nTitle: Azure DevTest Labs\nScore: 0.81866795\nContent: Azure DevTest Labs is a fully managed service that enables you to create, manage, and share development and test environments in Azure. It provides features like custom templates, cost management, and integration with Azure DevOps. DevTest Labs supports various platforms, such as Windows, Linux, and Kubernetes. You can use Azure DevTest Labs to improve your application development lifecycle, reduce your costs, and ensure the consistency of your environments. It also integrates with other Azure services, such as Azure Virtual Machines and Azure App Service.\nCategory: Developer Tools\n\nTitle: Azure Application Insights\nScore: 0.8022945\nContent: Azure Application Insights is an application performance management service that enables you to monitor, diagnose, and troubleshoot your applications and infrastructure. It provides features like real-time telemetry, dependency mapping, and live metrics. Application Insights supports various platforms, such as .NET, Java, Node.js, and Python. You can use Azure Application Insights to detect and diagnose issues, optimize your performance, and ensure the availability of your applications. It also integrates with other Azure services, such as Azure Monitor and Azure Log Analytics.\nCategory: Management + Governance\n\n"
        }
      ],
      "execution_count": 10,
      "metadata": {}
    },
    {
      "cell_type": "markdown",
      "source": [
        "This example shows a pure vector search to demonstrate OpenAI's text-embedding-ada-002 multilingual capabilities."
      ],
      "metadata": {}
    },
    {
      "cell_type": "code",
      "source": [
        "# Pure Vector Search multi-lingual (e.g 'tools for software development' in Dutch)  \n",
        "query = \"tools voor softwareontwikkeling\"  \n",
        "  \n",
        "search_client = SearchClient(service_endpoint, index_name, credential=credential)\n",
        "vector_query = VectorizableTextQuery(text=query, k=3, fields=\"contentVector\")\n",
        "# Use the below query to pass in the raw vector query instead of the query vectorization\n",
        "# vector_query = RawVectorQuery(vector=generate_embeddings(query), k=3, fields=\"contentVector\")\n",
        "  \n",
        "results = search_client.search(  \n",
        "    search_text=None,  \n",
        "    vector_queries= [vector_query],\n",
        "    select=[\"title\", \"content\", \"category\"],\n",
        ")  \n",
        "  \n",
        "for result in results:  \n",
        "    print(f\"Title: {result['title']}\")  \n",
        "    print(f\"Score: {result['@search.score']}\")  \n",
        "    print(f\"Content: {result['content']}\")  \n",
        "    print(f\"Category: {result['category']}\\n\")  \n",
        "\n"
      ],
      "outputs": [
        {
          "output_type": "stream",
          "name": "stdout",
          "text": "Title: Azure DevOps\nScore: 0.80402017\nContent: Azure DevOps is a suite of services that help you plan, build, and deploy applications. It includes Azure Boards for work item tracking, Azure Repos for source code management, Azure Pipelines for continuous integration and continuous deployment, Azure Test Plans for manual and automated testing, and Azure Artifacts for package management. DevOps supports a wide range of programming languages, frameworks, and platforms, making it easy to integrate with your existing development tools and processes. It also integrates with other Azure services, such as Azure App Service and Azure Functions.\nCategory: Developer Tools\n\nTitle: Azure DevTest Labs\nScore: 0.7967943\nContent: Azure DevTest Labs is a fully managed service that enables you to create, manage, and share development and test environments in Azure. It provides features like custom templates, cost management, and integration with Azure DevOps. DevTest Labs supports various platforms, such as Windows, Linux, and Kubernetes. You can use Azure DevTest Labs to improve your application development lifecycle, reduce your costs, and ensure the consistency of your environments. It also integrates with other Azure services, such as Azure Virtual Machines and Azure App Service.\nCategory: Developer Tools\n\nTitle: Azure Mobile Apps\nScore: 0.79512894\nContent: Azure Mobile Apps is a mobile app development platform that enables you to build, test, deploy, and monitor your mobile applications. It provides features like offline data sync, push notifications, and user authentication. Mobile Apps supports various platforms, including iOS, Android, and Windows. You can use Mobile Apps to build cross-platform applications, integrate with other Azure services, and improve your app development lifecycle. It also integrates with other Azure services, such as Azure Notification Hubs and Azure App Service.\nCategory: Mobile\n\n"
        }
      ],
      "execution_count": 11,
      "metadata": {}
    },
    {
      "cell_type": "markdown",
      "source": [
        "## Perform an Exhaustive KNN exact nearest neighbor search"
      ],
      "metadata": {}
    },
    {
      "cell_type": "markdown",
      "source": [
        "This example shows how you can exhaustively search your vector index regardless of what index you have, HNSW or ExhaustiveKNN. You can use this to calculate the ground-truth values."
      ],
      "metadata": {}
    },
    {
      "cell_type": "code",
      "source": [
        "# Pure Vector Search\n",
        "query = \"tools for software development\"  \n",
        "  \n",
        "search_client = SearchClient(service_endpoint, index_name, credential=credential)\n",
        "vector_query = VectorizableTextQuery(text=query, k=3, fields=\"contentVector\", exhaustive=True)\n",
        "# Use the below query to pass in the raw vector query instead of the query vectorization\n",
        "# vector_query = RawVectorQuery(vector=generate_embeddings(query), k=3, fields=\"contentVector\")\n",
        "  \n",
        "results = search_client.search(  \n",
        "    search_text=None,  \n",
        "    vector_queries= [vector_query],\n",
        "    select=[\"title\", \"content\", \"category\"],\n",
        ")  \n",
        "  \n",
        "for result in results:  \n",
        "    print(f\"Title: {result['title']}\")  \n",
        "    print(f\"Score: {result['@search.score']}\")  \n",
        "    print(f\"Content: {result['content']}\")  \n",
        "    print(f\"Category: {result['category']}\\n\")  \n"
      ],
      "outputs": [
        {
          "output_type": "stream",
          "name": "stdout",
          "text": "Title: Azure DevOps\nScore: 0.8297154\nContent: Azure DevOps is a suite of services that help you plan, build, and deploy applications. It includes Azure Boards for work item tracking, Azure Repos for source code management, Azure Pipelines for continuous integration and continuous deployment, Azure Test Plans for manual and automated testing, and Azure Artifacts for package management. DevOps supports a wide range of programming languages, frameworks, and platforms, making it easy to integrate with your existing development tools and processes. It also integrates with other Azure services, such as Azure App Service and Azure Functions.\nCategory: Developer Tools\n\nTitle: Azure DevTest Labs\nScore: 0.8186685\nContent: Azure DevTest Labs is a fully managed service that enables you to create, manage, and share development and test environments in Azure. It provides features like custom templates, cost management, and integration with Azure DevOps. DevTest Labs supports various platforms, such as Windows, Linux, and Kubernetes. You can use Azure DevTest Labs to improve your application development lifecycle, reduce your costs, and ensure the consistency of your environments. It also integrates with other Azure services, such as Azure Virtual Machines and Azure App Service.\nCategory: Developer Tools\n\nTitle: Azure Application Insights\nScore: 0.8022949\nContent: Azure Application Insights is an application performance management service that enables you to monitor, diagnose, and troubleshoot your applications and infrastructure. It provides features like real-time telemetry, dependency mapping, and live metrics. Application Insights supports various platforms, such as .NET, Java, Node.js, and Python. You can use Azure Application Insights to detect and diagnose issues, optimize your performance, and ensure the availability of your applications. It also integrates with other Azure services, such as Azure Monitor and Azure Log Analytics.\nCategory: Management + Governance\n\n"
        }
      ],
      "execution_count": 12,
      "metadata": {}
    },
    {
      "cell_type": "markdown",
      "source": [
        "## Perform a Cross-Field Vector Search\n",
        "\n",
        "This example shows a cross-field vector search that allows you to query multiple vector fields at the same time. Note, ensure that the same embedding model was used for the vector fields you decide to query."
      ],
      "metadata": {}
    },
    {
      "cell_type": "code",
      "source": [
        "# Pure Vector Search\n",
        "query = \"tools for software development\"  \n",
        "  \n",
        "search_client = SearchClient(service_endpoint, index_name, credential=credential)\n",
        "vector_query = VectorizableTextQuery(text=query, k=3, fields=\"titleVector, contentVector\")\n",
        "# Use the below query to pass in the raw vector query instead of the query vectorization\n",
        "# vector_query = RawVectorQuery(vector=generate_embeddings(query), k=3, fields=\"titleVector, contentVector\")\n",
        "  \n",
        "results = search_client.search(  \n",
        "    search_text=None,  \n",
        "    vector_queries= [vector_query],\n",
        "    select=[\"title\", \"content\", \"category\"],\n",
        ")  \n",
        "  \n",
        "for result in results:  \n",
        "    print(f\"Title: {result['title']}\")  \n",
        "    print(f\"Score: {result['@search.score']}\")  \n",
        "    print(f\"Content: {result['content']}\")  \n",
        "    print(f\"Category: {result['category']}\\n\")  \n"
      ],
      "outputs": [
        {
          "output_type": "stream",
          "name": "stdout",
          "text": "Title: Azure DevOps\nScore: 0.03333333507180214\nContent: Azure DevOps is a suite of services that help you plan, build, and deploy applications. It includes Azure Boards for work item tracking, Azure Repos for source code management, Azure Pipelines for continuous integration and continuous deployment, Azure Test Plans for manual and automated testing, and Azure Artifacts for package management. DevOps supports a wide range of programming languages, frameworks, and platforms, making it easy to integrate with your existing development tools and processes. It also integrates with other Azure services, such as Azure App Service and Azure Functions.\nCategory: Developer Tools\n\nTitle: Azure DevTest Labs\nScore: 0.032786883413791656\nContent: Azure DevTest Labs is a fully managed service that enables you to create, manage, and share development and test environments in Azure. It provides features like custom templates, cost management, and integration with Azure DevOps. DevTest Labs supports various platforms, such as Windows, Linux, and Kubernetes. You can use Azure DevTest Labs to improve your application development lifecycle, reduce your costs, and ensure the consistency of your environments. It also integrates with other Azure services, such as Azure Virtual Machines and Azure App Service.\nCategory: Developer Tools\n\nTitle: Azure Application Insights\nScore: 0.016129031777381897\nContent: Azure Application Insights is an application performance management service that enables you to monitor, diagnose, and troubleshoot your applications and infrastructure. It provides features like real-time telemetry, dependency mapping, and live metrics. Application Insights supports various platforms, such as .NET, Java, Node.js, and Python. You can use Azure Application Insights to detect and diagnose issues, optimize your performance, and ensure the availability of your applications. It also integrates with other Azure services, such as Azure Monitor and Azure Log Analytics.\nCategory: Management + Governance\n\nTitle: Azure Static Web Apps\nScore: 0.016129031777381897\nContent: Azure Static Web Apps is a serverless hosting service that enables you to build and deploy modern web applications using static front-end technologies and serverless APIs. It provides features like custom domains, SSL certificates, and integration with Azure Functions. Static Web Apps supports various frameworks, such as React, Angular, and Vue.js. You can use Azure Static Web Apps to build and deploy your web applications, ensure high performance and security, and simplify your development workflow. It also integrates with other Azure services, such as Azure App Service and Azure CDN.\nCategory: Web\n\n"
        }
      ],
      "execution_count": 13,
      "metadata": {}
    },
    {
      "cell_type": "markdown",
      "source": [
        "## Perform a Multi-Vector Search\n",
        "\n",
        "This example shows a cross-field vector search that allows you to query multiple vector fields at the same time by passing in multiple query vectors. Note, in this case, you can pass in query vectors from two different embedding models to the corresponding vector fields in your index."
      ],
      "metadata": {}
    },
    {
      "cell_type": "code",
      "source": [
        "# Multi-Vector Search\n",
        "query = \"tools for software development\"  \n",
        "  \n",
        "search_client = SearchClient(service_endpoint, index_name, credential=credential)  \n",
        "vector_query_1 = VectorizableTextQuery(text=query, k=3, fields=\"titleVector\") \n",
        "vector_query_2 = VectorizableTextQuery(text=query, k=3, fields=\"contentVector\")  \n",
        "# vector_query_1 = RawVectorQuery(vector=generate_embeddings(query), k=3, fields=\"titleVector\") \n",
        "# vector_query_2 = RawVectorQuery(vector=generate_embeddings(query), k=3, fields=\"contentVector\")  \n",
        "  \n",
        "results = search_client.search(  \n",
        "    search_text=None,  \n",
        "    vector_queries=[vector_query_1, vector_query_1],\n",
        "    select=[\"title\", \"content\", \"category\"],\n",
        ")  \n",
        "  \n",
        "for result in results:  \n",
        "    print(f\"Title: {result['title']}\")  \n",
        "    print(f\"Score: {result['@search.score']}\")  \n",
        "    print(f\"Content: {result['content']}\")  \n",
        "    print(f\"Category: {result['category']}\\n\")  \n"
      ],
      "outputs": [
        {
          "output_type": "stream",
          "name": "stdout",
          "text": "Title: Azure DevOps\nScore: 0.03333333507180214\nContent: Azure DevOps is a suite of services that help you plan, build, and deploy applications. It includes Azure Boards for work item tracking, Azure Repos for source code management, Azure Pipelines for continuous integration and continuous deployment, Azure Test Plans for manual and automated testing, and Azure Artifacts for package management. DevOps supports a wide range of programming languages, frameworks, and platforms, making it easy to integrate with your existing development tools and processes. It also integrates with other Azure services, such as Azure App Service and Azure Functions.\nCategory: Developer Tools\n\nTitle: Azure DevTest Labs\nScore: 0.032786883413791656\nContent: Azure DevTest Labs is a fully managed service that enables you to create, manage, and share development and test environments in Azure. It provides features like custom templates, cost management, and integration with Azure DevOps. DevTest Labs supports various platforms, such as Windows, Linux, and Kubernetes. You can use Azure DevTest Labs to improve your application development lifecycle, reduce your costs, and ensure the consistency of your environments. It also integrates with other Azure services, such as Azure Virtual Machines and Azure App Service.\nCategory: Developer Tools\n\nTitle: Azure Static Web Apps\nScore: 0.032258063554763794\nContent: Azure Static Web Apps is a serverless hosting service that enables you to build and deploy modern web applications using static front-end technologies and serverless APIs. It provides features like custom domains, SSL certificates, and integration with Azure Functions. Static Web Apps supports various frameworks, such as React, Angular, and Vue.js. You can use Azure Static Web Apps to build and deploy your web applications, ensure high performance and security, and simplify your development workflow. It also integrates with other Azure services, such as Azure App Service and Azure CDN.\nCategory: Web\n\n"
        }
      ],
      "execution_count": 16,
      "metadata": {}
    },
    {
      "attachments": {},
      "cell_type": "markdown",
      "source": [
        "## Perform a Pure Vector Search with a filter\n",
        "This example shows how to apply filters on your index. Note, that you can choose whether you want to use Pre-Filtering (default) or Post-Filtering."
      ],
      "metadata": {}
    },
    {
      "cell_type": "code",
      "source": [
        "# Pure Vector Search\n",
        "query = \"tools for software development\"  \n",
        "  \n",
        "search_client = SearchClient(service_endpoint, index_name, credential=credential)\n",
        "  \n",
        "vector_query = VectorizableTextQuery(text=query, k=3, fields=\"contentVector\")\n",
        "# Use the below query to pass in the raw vector query instead of the query vectorization\n",
        "# vector_query = RawVectorQuery(vector=generate_embeddings(query), k=3, fields=\"contentVector\")\n",
        "  \n",
        "results = search_client.search(  \n",
        "    search_text=None,  \n",
        "    vector_queries= [vector_query],\n",
        "    vector_filter_mode=VectorFilterMode.PRE_FILTER,\n",
        "    filter=\"category eq 'Developer Tools'\",\n",
        "    select=[\"title\", \"content\", \"category\"],\n",
        ")\n",
        "  \n",
        "for result in results:  \n",
        "    print(f\"Title: {result['title']}\")  \n",
        "    print(f\"Score: {result['@search.score']}\")  \n",
        "    print(f\"Content: {result['content']}\")  \n",
        "    print(f\"Category: {result['category']}\\n\")  \n"
      ],
      "outputs": [
        {
          "output_type": "stream",
          "name": "stdout",
          "text": "Title: Azure DevOps\nScore: 0.8297154\nContent: Azure DevOps is a suite of services that help you plan, build, and deploy applications. It includes Azure Boards for work item tracking, Azure Repos for source code management, Azure Pipelines for continuous integration and continuous deployment, Azure Test Plans for manual and automated testing, and Azure Artifacts for package management. DevOps supports a wide range of programming languages, frameworks, and platforms, making it easy to integrate with your existing development tools and processes. It also integrates with other Azure services, such as Azure App Service and Azure Functions.\nCategory: Developer Tools\n\nTitle: Azure DevTest Labs\nScore: 0.8186685\nContent: Azure DevTest Labs is a fully managed service that enables you to create, manage, and share development and test environments in Azure. It provides features like custom templates, cost management, and integration with Azure DevOps. DevTest Labs supports various platforms, such as Windows, Linux, and Kubernetes. You can use Azure DevTest Labs to improve your application development lifecycle, reduce your costs, and ensure the consistency of your environments. It also integrates with other Azure services, such as Azure Virtual Machines and Azure App Service.\nCategory: Developer Tools\n\nTitle: Azure App Configuration\nScore: 0.7889983\nContent: Azure App Configuration is a fully managed configuration service that enables you to centrally manage and distribute your application settings and feature flags. It provides features like key-value storage, versioning, and access control. App Configuration supports various platforms, such as .NET, Java, Node.js, and Python. You can use Azure App Configuration to build and deploy your applications, ensure the consistency of your settings, and improve your application lifecycle. It also integrates with other Azure services, such as Azure App Service and Azure Functions.\nCategory: Developer Tools\n\n"
        }
      ],
      "execution_count": 18,
      "metadata": {}
    },
    {
      "attachments": {},
      "cell_type": "markdown",
      "source": [
        "## Perform a Hybrid Search"
      ],
      "metadata": {}
    },
    {
      "cell_type": "code",
      "source": [
        "# Hybrid Search\n",
        "query = \"scalable storage solution\"  \n",
        "  \n",
        "search_client = SearchClient(service_endpoint, index_name, AzureKeyCredential(key))  \n",
        "vector_query = VectorizableTextQuery(text=query, k=3, fields=\"contentVector\")\n",
        "# Use the below query to pass in the raw vector query instead of the query vectorization\n",
        "# vector_query = RawVectorQuery(vector=generate_embeddings(query), k=3, fields=\"contentVector\")\n",
        "\n",
        "results = search_client.search(  \n",
        "    search_text=query,  \n",
        "    vector_queries=[vector_query],\n",
        "    select=[\"title\", \"content\", \"category\"],\n",
        "    top=3\n",
        ")  \n",
        "  \n",
        "for result in results:  \n",
        "    print(f\"Title: {result['title']}\")  \n",
        "    print(f\"Score: {result['@search.score']}\")  \n",
        "    print(f\"Content: {result['content']}\")  \n",
        "    print(f\"Category: {result['category']}\\n\")  \n"
      ],
      "outputs": [
        {
          "output_type": "stream",
          "name": "stdout",
          "text": "Title: Azure Storage\nScore: 0.03306011110544205\nContent: Azure Storage is a scalable, durable, and highly available cloud storage service that supports a variety of data types, including blobs, files, queues, and tables. It provides a massively scalable object store for unstructured data. Storage supports data redundancy and geo-replication, ensuring high durability and availability. It offers a variety of data access and management options, including REST APIs, SDKs, and Azure Portal. You can secure your data using encryption at rest and in transit.\nCategory: Storage\n\nTitle: Azure Table Storage\nScore: 0.032258063554763794\nContent: Azure Table Storage is a fully managed, NoSQL datastore that enables you to store and query large amounts of structured, non-relational data. It provides features like automatic scaling, schema-less design, and a RESTful API. Table Storage supports various data types, such as strings, numbers, and booleans. You can use Azure Table Storage to store and manage your data, build scalable applications, and reduce the cost of your storage. It also integrates with other Azure services, such as Azure Functions and Azure Cosmos DB.\nCategory: Storage\n\nTitle: Azure Blob Storage\nScore: 0.03205128386616707\nContent: Azure Blob Storage is a scalable, durable, and high-performance object storage service for unstructured data. It provides features like data redundancy, geo-replication, and fine-grained access control. Blob Storage supports various data types, such as images, documents, and videos. You can use Blob Storage to store and manage your data, build data lakes, and develop big data analytics solutions. It also integrates with other Azure services, such as Azure CDN, Azure Functions, and Azure Machine Learning.\nCategory: Storage\n\n"
        }
      ],
      "execution_count": 19,
      "metadata": {}
    },
    {
      "attachments": {},
      "cell_type": "markdown",
      "source": [
        "## Perform a Semantic Hybrid Search"
      ],
      "metadata": {}
    },
    {
      "cell_type": "code",
      "source": [
        "# Semantic Hybrid Search\n",
        "query = \"what is azure sarch?\"\n",
        "\n",
        "search_client = SearchClient(service_endpoint, index_name, AzureKeyCredential(key))\n",
        "vector_query = VectorizableTextQuery(text=query, k=3, fields=\"contentVector\")\n",
        "# Use the below query to pass in the raw vector query instead of the query vectorization\n",
        "# vector_query = RawVectorQuery(vector=generate_embeddings(query), k=3, fields=\"contentVector\")\n",
        "\n",
        "results = search_client.search(  \n",
        "    search_text=query,  \n",
        "    vector_queries=[vector_query],\n",
        "    select=[\"title\", \"content\", \"category\"],\n",
        "    query_type=QueryType.SEMANTIC, query_language=QueryLanguage.EN_US, semantic_configuration_name='my-semantic-config', query_caption=QueryCaptionType.EXTRACTIVE, query_answer=QueryAnswerType.EXTRACTIVE,\n",
        "    top=3\n",
        ")\n",
        "\n",
        "semantic_answers = results.get_answers()\n",
        "for answer in semantic_answers:\n",
        "    if answer.highlights:\n",
        "        print(f\"Semantic Answer: {answer.highlights}\")\n",
        "    else:\n",
        "        print(f\"Semantic Answer: {answer.text}\")\n",
        "    print(f\"Semantic Answer Score: {answer.score}\\n\")\n",
        "\n",
        "for result in results:\n",
        "    print(f\"Title: {result['title']}\")\n",
        "    print(f\"Reranker Score: {result['@search.reranker_score']}\")\n",
        "    print(f\"Content: {result['content']}\")\n",
        "    print(f\"Category: {result['category']}\")\n",
        "\n",
        "    captions = result[\"@search.captions\"]\n",
        "    if captions:\n",
        "        caption = captions[0]\n",
        "        if caption.highlights:\n",
        "            print(f\"Caption: {caption.highlights}\\n\")\n",
        "        else:\n",
        "            print(f\"Caption: {caption.text}\\n\")\n"
      ],
      "outputs": [
        {
          "output_type": "stream",
          "name": "stdout",
          "text": "Semantic Answer: Azure Cognitive Search is<em> a fully managed search-as-a-service that enables you to build rich search experiences for your applications.</em> It provides features like full-text search, faceted navigation, and filters. Azure Cognitive Search supports various data sources, such as Azure SQL Database, Azure Blob Storage, and Azure Cosmos DB.\nSemantic Answer Score: 0.9462890625\n\nTitle: Azure Stack Edge\nReranker Score: 2.075716972351074\nContent: Azure Stack Edge is a managed, edge computing appliance that enables you to run Azure services and AI workloads on-premises or at the edge. It provides features like hardware-accelerated machine learning, local caching, and integration with Azure IoT Hub. Azure Stack Edge supports various Azure services, such as Azure Functions, Azure Machine Learning, and Azure Kubernetes Service. You can use Azure Stack Edge to build edge computing applications, optimize your data processing, and ensure the security and compliance of your workloads. It also integrates with other Azure services, such as Azure Monitor and Azure Stack Hub.\nCategory: Hybrid\nCaption: Azure Stack Edge is a managed, edge computing appliance that enables you to run Azure services and AI workloads on-premises or at the edge. It provides features like hardware-accelerated machine learning, local caching, and integration with Azure IoT Hub.\n\nTitle: Azure Security Center\nReranker Score: 1.9684149026870728\nContent: Azure Security Center is a unified security management service that helps you protect your workloads and improve your security posture across your Azure resources and on-premises infrastructure. It provides features like continuous security assessments, threat protection, and security recommendations. Security Center supports various platforms, such as Windows, Linux, and Kubernetes. You can use Azure Security Center to detect and remediate threats, manage your security policies, and ensure compliance with industry regulations. It also integrates with other Azure services, such as Azure Monitor and Azure Log Analytics.\nCategory: Security\nCaption: Azure Security Center is a unified security management service that helps you protect your workloads and improve your security posture across your Azure resources and on-premises infrastructure. It provides features like continuous security assessments, threat protection, and security recommendations.\n\nTitle: Azure Databricks\nReranker Score: 1.723077416419983\nContent: Azure Databricks is an Apache Spark-based analytics platform optimized for the Azure cloud. It provides a collaborative workspace for data scientists, engineers, and business users to process, analyze, and visualize big data. Databricks supports multiple programming languages, including Python, Scala, R, and SQL. It offers built-in integration with Azure Blob Storage, Azure Data Lake Storage, and Azure Cosmos DB. You can also use Databricks to train and deploy machine learning models, and integrate with Azure Machine Learning.\nCategory: Analytics\nCaption: Azure Databricks is an Apache Spark-based analytics platform optimized for the Azure cloud. It provides a collaborative workspace for data scientists, engineers, and business users to process, analyze, and visualize big data. Databricks supports multiple programming languages, including Python, Scala, R, and SQL.\n\n"
        }
      ],
      "execution_count": 20,
      "metadata": {}
    }
  ],
  "metadata": {
    "kernelspec": {
      "name": "python3",
      "language": "python",
      "display_name": "Python 3 (ipykernel)"
    },
    "language_info": {
      "name": "python",
      "version": "3.8.5",
      "mimetype": "text/x-python",
      "codemirror_mode": {
        "name": "ipython",
        "version": 3
      },
      "pygments_lexer": "ipython3",
      "nbconvert_exporter": "python",
      "file_extension": ".py"
    },
    "orig_nbformat": 4,
    "microsoft": {
      "ms_spell_check": {
        "ms_spell_check_language": "en"
      }
    },
    "kernel_info": {
      "name": "python3"
    },
    "nteract": {
      "version": "nteract-front-end@1.0.0"
    }
  },
  "nbformat": 4,
  "nbformat_minor": 2
}